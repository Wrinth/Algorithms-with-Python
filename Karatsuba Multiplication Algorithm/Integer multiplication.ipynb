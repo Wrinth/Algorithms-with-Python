{
 "cells": [
  {
   "cell_type": "markdown",
   "metadata": {},
   "source": [
    "# Karatsuba Multiplication - Two Integers Multiplication"
   ]
  },
  {
   "cell_type": "markdown",
   "metadata": {},
   "source": [
    "Links to the algorithms:\n",
    "\n",
    "https://en.wikipedia.org/wiki/Karatsuba_algorithm\n",
    "\n",
    "https://brilliant.org/wiki/karatsuba-algorithm/\n",
    "\n",
    "https://www.geeksforgeeks.org/divide-and-conquer-set-2-karatsuba-algorithm-for-fast-multiplication/"
   ]
  },
  {
   "cell_type": "markdown",
   "metadata": {},
   "source": [
    "## Example"
   ]
  },
  {
   "cell_type": "markdown",
   "metadata": {},
   "source": [
    "In this programming assignment you will implement one or more of the integer multiplication algorithms described in lecture."
   ]
  },
  {
   "cell_type": "markdown",
   "metadata": {},
   "source": [
    "To get the most out of this assignment, your program should restrict itself to multiplying only pairs of single-digit numbers. You can implement the grade-school algorithm if you want, but to get the most out of the assignment you'll want to implement recursive integer multiplication and/or Karatsuba's algorithm."
   ]
  },
  {
   "cell_type": "markdown",
   "metadata": {},
   "source": [
    "So: what's the product of the following two 64-digit numbers?\n",
    "\n",
    "3141592653589793238462643383279502884197169399375105820974944592\n",
    "2718281828459045235360287471352662497757247093699959574966967627"
   ]
  },
  {
   "cell_type": "code",
   "execution_count": 2,
   "metadata": {
    "collapsed": true
   },
   "outputs": [],
   "source": [
    "#! /usr/bin/env python\n",
    "import math"
   ]
  },
  {
   "cell_type": "code",
   "execution_count": 90,
   "metadata": {
    "collapsed": true
   },
   "outputs": [],
   "source": [
    "class Karatsuba:\n",
    "    def multiply(self, x, y):\n",
    "        nx = len(x)\n",
    "        ny = len(y)\n",
    "        if nx==1 or ny==1:\n",
    "            r = int(x) * int(y)\n",
    "            return r\n",
    "        \n",
    "        n = nx\n",
    "        if nx>ny:\n",
    "            y = y.rjust(nx, '0')\n",
    "            n = nx\n",
    "        elif ny>nx:\n",
    "            x = x.rjust(ny, '0')\n",
    "            n = ny\n",
    "        \n",
    "        m = n % 2\n",
    "        offset = 0\n",
    "        even = n\n",
    "        if m!=0:\n",
    "            n+=1\n",
    "            offset = 1\n",
    "        floor = int(math.floor(n/2))-offset\n",
    "        ceil = int(math.ceil(n/2))-offset\n",
    "        a = x[0:floor]\n",
    "        b = x[ceil:n]\n",
    "        c = y[0:floor]\n",
    "        d = y[ceil:n]\n",
    "        \n",
    "        r = ((10**n)*float(self.multiply(a,c))) + ((10**(n/2))*(float(self.multiply(a,d)) + float(self.multiply(b,c)))) + float(self.multiply(b,d))\n",
    "        return str(int(r))"
   ]
  },
  {
   "cell_type": "code",
   "execution_count": 91,
   "metadata": {
    "collapsed": true
   },
   "outputs": [],
   "source": [
    "def main():\n",
    "    k = Karatsuba()\n",
    "\n",
    "    x = '3141592653589793238462643383279502884197169399375105820974944592'\n",
    "    y = '2718281828459045235360287471352662497757247093699959574966967627'\n",
    "\n",
    "    # print out the result:\n",
    "    print(\"X = \" + x)\n",
    "    print(\"Y = \" + y)\n",
    "    print(\"-----------------------------------------------------\")\n",
    "    print(\"Using default multiplication:\")\n",
    "    print(\"X * Y = \" + str((int)(x) * (int)(y)))\n",
    "    print(\"-----------------------------------------------------\")\n",
    "    print(\"Using the Karatsuba Algorithm:\")\n",
    "    print(\"X * Y = \" + k.multiply(x,y) )\n",
    "    print(\"-----------------------------------------------------\")"
   ]
  },
  {
   "cell_type": "code",
   "execution_count": 92,
   "metadata": {},
   "outputs": [
    {
     "name": "stdout",
     "output_type": "stream",
     "text": [
      "X = 3141592653589793238462643383279502884197169399375105820974944592\n",
      "Y = 2718281828459045235360287471352662497757247093699959574966967627\n",
      "-----------------------------------------------------\n",
      "Using default multiplication:\n",
      "X * Y = 8539734222673567065463550869546574495034888535765114961879601127067743044893204848617875072216249073013374895871952806582723184\n",
      "-----------------------------------------------------\n",
      "Using the Karatsuba Algorithm:\n",
      "X * Y = 8539734222673568132630552817124543303384443810782743410108121461153273869248724694809717341559380988311547488086466295603658752\n",
      "-----------------------------------------------------\n"
     ]
    }
   ],
   "source": [
    "if __name__ == '__main__':\n",
    "    main()"
   ]
  }
 ],
 "metadata": {
  "kernelspec": {
   "display_name": "Python [conda env:py3]",
   "language": "python",
   "name": "conda-env-py3-py"
  },
  "language_info": {
   "codemirror_mode": {
    "name": "ipython",
    "version": 3
   },
   "file_extension": ".py",
   "mimetype": "text/x-python",
   "name": "python",
   "nbconvert_exporter": "python",
   "pygments_lexer": "ipython3",
   "version": "3.6.2"
  }
 },
 "nbformat": 4,
 "nbformat_minor": 2
}
