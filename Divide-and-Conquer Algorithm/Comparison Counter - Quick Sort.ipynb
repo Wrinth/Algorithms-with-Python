{
 "cells": [
  {
   "cell_type": "markdown",
   "metadata": {},
   "source": [
    "# Comparison Counter - Quick Sort"
   ]
  },
  {
   "cell_type": "markdown",
   "metadata": {},
   "source": [
    "Links about Divide-and-Conquer Algorithm:\n",
    "\n",
    "https://en.wikipedia.org/wiki/Divide_and_conquer_algorithm\n",
    "\n",
    "https://www.geeksforgeeks.org/divide-and-conquer-introduction/\n",
    "\n",
    "Links about Quick Sort:\n",
    "\n",
    "https://en.wikipedia.org/wiki/Quicksort\n",
    "\n",
    "https://www.geeksforgeeks.org/quick-sort/"
   ]
  },
  {
   "cell_type": "raw",
   "metadata": {},
   "source": [
    "algorithm quicksort(A, lo, hi) is\n",
    "    if lo < hi then\n",
    "        p := partition(A, lo, hi)\n",
    "        quicksort(A, lo, p - 1 )\n",
    "        quicksort(A, p + 1, hi)\n",
    "\n",
    "algorithm partition(A, lo, hi) is\n",
    "    pivot := A[hi]\n",
    "    i := lo - 1    \n",
    "    for j := lo to hi - 1 do\n",
    "        if A[j] < pivot then\n",
    "            i := i + 1\n",
    "            swap A[i] with A[j]\n",
    "    if A[hi] < A[i + 1] then\n",
    "        swap A[i + 1] with A[hi]\n",
    "    return i + 1"
   ]
  },
  {
   "cell_type": "code",
   "execution_count": null,
   "metadata": {
    "collapsed": true
   },
   "outputs": [],
   "source": []
  },
  {
   "cell_type": "code",
   "execution_count": null,
   "metadata": {
    "collapsed": true
   },
   "outputs": [],
   "source": []
  },
  {
   "cell_type": "markdown",
   "metadata": {},
   "source": [
    "## Examples"
   ]
  },
  {
   "cell_type": "markdown",
   "metadata": {},
   "source": [
    "The QuickSort.txt contains all of the integers between 1 and 10,000 (inclusive, with no repeats) in unsorted order. The integer in the ith row of the file gives you the ith entry of an input array.\n",
    "\n",
    "The task is to compute the total number of comparisons used to sort the given input file by QuickSort. As you know, the number of comparisons depends on which elements are chosen as pivots, so we'll ask you to explore three different pivoting rules.\n",
    "\n",
    "In this example, we won't count comparisons one-by-one. Rather, when there is a recursive call on a subarray of length m, we simply add m-1 to the running total of comparisons. (This is because the pivot element is compared to each of the other m-1 elements in the subarray in this recursive call.)\n",
    "\n",
    "Note: The Partition subroutine can be implemented in several different ways, and different implementations can give you differing numbers of comparisons."
   ]
  },
  {
   "cell_type": "code",
   "execution_count": 1,
   "metadata": {
    "collapsed": true
   },
   "outputs": [],
   "source": [
    "class QuickSorter(object):\n",
    "    def __init__(self, input_file=None):\n",
    "        self._comparisons = 0\n",
    "        self._array = []\n",
    "        self._inversions = 0\n",
    "        self.read_input(input_file)\n",
    "\n",
    "    @property\n",
    "    def comparisons(self):\n",
    "        return self._comparisons\n",
    "\n",
    "    @property\n",
    "    def array(self):\n",
    "        return self._array\n",
    "\n",
    "    @array.setter\n",
    "    def array(self, arr):\n",
    "        self._array = arr\n",
    "\n",
    "    def read_input(self, input_file=None):\n",
    "        if input_file is None:\n",
    "            self._array = [int(elem) for elem in input().split()]\n",
    "            return\n",
    "        with open(input_file) as numbers:\n",
    "            for number in numbers:\n",
    "                self._array.append(int(number))\n",
    "\n",
    "    def sort(self):\n",
    "        if len(self._array) <= 1:\n",
    "            return\n",
    "        self._qsort(0, len(self._array) - 1)\n",
    "\n",
    "    def _qsort(self, start, end):\n",
    "        if start >= end:\n",
    "            return\n",
    "        pivot = self.partition(start, end)\n",
    "        self._qsort(start, pivot - 1)\n",
    "        self._qsort(pivot + 1, end)\n",
    "\n",
    "    def partition(self, start, end):\n",
    "        self._comparisons += end - start\n",
    "        pivot = start\n",
    "        for i in range(start + 1, end + 1):\n",
    "            if self._array[i] < self._array[start]:\n",
    "                pivot += 1\n",
    "                self._array[i], self._array[pivot] = self._array[pivot], self._array[i]\n",
    "        self._array[start], self._array[pivot] = self._array[pivot], self._array[start]\n",
    "        return pivot"
   ]
  },
  {
   "cell_type": "markdown",
   "metadata": {},
   "source": [
    "### Problem 1:\n",
    "For the first part of the programming assignment, we use the first element of the array as the pivot element."
   ]
  },
  {
   "cell_type": "code",
   "execution_count": 6,
   "metadata": {
    "collapsed": true
   },
   "outputs": [],
   "source": [
    "class QuickSorterFirstElementPivot(QuickSorter):\n",
    "    def partition(self, start, end):\n",
    "        return super(QuickSorterFirstElementPivot, self).partition(start, end)"
   ]
  },
  {
   "cell_type": "code",
   "execution_count": 7,
   "metadata": {},
   "outputs": [
    {
     "name": "stdout",
     "output_type": "stream",
     "text": [
      "162085\n"
     ]
    }
   ],
   "source": [
    "sorter = QuickSorterFirstElementPivot('QuickSort.txt')\n",
    "sorter.sort()\n",
    "print(sorter.comparisons)"
   ]
  },
  {
   "cell_type": "markdown",
   "metadata": {},
   "source": [
    "### Problem 2:\n",
    "Compute the number of comparisons (as in Problem 1), always using the final element of the given array as the pivot element."
   ]
  },
  {
   "cell_type": "code",
   "execution_count": 8,
   "metadata": {
    "collapsed": true
   },
   "outputs": [],
   "source": [
    "class QuickSorterLastElementPivot(QuickSorter):\n",
    "    def partition(self, start, end):\n",
    "        self._array[start], self._array[end] = self._array[end], self._array[start]\n",
    "        return super(QuickSorterLastElementPivot, self).partition(start, end)"
   ]
  },
  {
   "cell_type": "code",
   "execution_count": 9,
   "metadata": {},
   "outputs": [
    {
     "name": "stdout",
     "output_type": "stream",
     "text": [
      "164123\n"
     ]
    }
   ],
   "source": [
    "sorter = QuickSorterLastElementPivot('QuickSort.txt')\n",
    "sorter.sort()\n",
    "print(sorter.comparisons)"
   ]
  },
  {
   "cell_type": "markdown",
   "metadata": {},
   "source": [
    "### Problem 3:\n",
    "Compute the number of comparisons (as in Problem 1), using the \"median-of-three\" pivot rule. [The primary motivation behind this rule is to do a little bit of extra work to get much better performance on input arrays that are nearly sorted or reverse sorted.]."
   ]
  },
  {
   "cell_type": "code",
   "execution_count": 10,
   "metadata": {
    "collapsed": true
   },
   "outputs": [],
   "source": [
    "class QuickSorterMedianElementPivot(QuickSorter):\n",
    "    def partition(self, start, end):\n",
    "        self._choose_median_pivot(start, end)\n",
    "        return super(QuickSorterMedianElementPivot, self).partition(start, end)\n",
    "\n",
    "    def _choose_median_pivot(self, start, end):\n",
    "        length = end - start + 1\n",
    "        median_index = length // 2 - 1 if length % 2 == 0 else length // 2\n",
    "        median = start + median_index\n",
    "        if self._array[start] <= self._array[median] <= self._array[end] or self._array[end] <= self._array[median] <= \\\n",
    "                self._array[start]:\n",
    "            self._array[start], self._array[median] = self._array[median], self._array[start]\n",
    "        elif self._array[median] <= self._array[end] <= self._array[start] or self._array[start] <= self._array[end] <= \\\n",
    "                self._array[median]:\n",
    "            self._array[start], self._array[end] = self._array[end], self._array[start]"
   ]
  },
  {
   "cell_type": "code",
   "execution_count": 11,
   "metadata": {},
   "outputs": [
    {
     "name": "stdout",
     "output_type": "stream",
     "text": [
      "138382\n"
     ]
    }
   ],
   "source": [
    "sorter = QuickSorterMedianElementPivot('QuickSort.txt')\n",
    "sorter.sort()\n",
    "print(sorter.comparisons)"
   ]
  }
 ],
 "metadata": {
  "kernelspec": {
   "display_name": "Python [default]",
   "language": "python",
   "name": "python3"
  },
  "language_info": {
   "codemirror_mode": {
    "name": "ipython",
    "version": 3
   },
   "file_extension": ".py",
   "mimetype": "text/x-python",
   "name": "python",
   "nbconvert_exporter": "python",
   "pygments_lexer": "ipython3",
   "version": "3.6.2"
  }
 },
 "nbformat": 4,
 "nbformat_minor": 2
}
