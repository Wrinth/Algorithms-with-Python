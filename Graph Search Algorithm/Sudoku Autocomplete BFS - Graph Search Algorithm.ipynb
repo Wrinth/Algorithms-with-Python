{
 "cells": [
  {
   "cell_type": "markdown",
   "metadata": {},
   "source": [
    "# Sudoku Autocomplete BFS - Graph Search Algorithm"
   ]
  },
  {
   "cell_type": "markdown",
   "metadata": {},
   "source": []
  },
  {
   "cell_type": "code",
   "execution_count": 1,
   "metadata": {
    "collapsed": true
   },
   "outputs": [],
   "source": [
    "from queue import Queue\n",
    "import copy\n",
    "import time"
   ]
  },
  {
   "cell_type": "code",
   "execution_count": 2,
   "metadata": {
    "collapsed": true
   },
   "outputs": [],
   "source": [
    "class Problem(object):\n",
    "    def __init__(self, initial):\n",
    "        self.initial = initial\n",
    "        self.type = len(initial) # Defines board type, either 6x6 or 9x9\n",
    "        self.height = int(self.type/3) # Defines height of quadrant (2 for 6x6, 3 for 9x9)\n",
    "\n",
    "    # Return set of valid numbers from values that do not appear in used\n",
    "    def filter_values(self, possible_values, used):\n",
    "        return [number for number in possible_values if number not in used]\n",
    "\n",
    "    # Return first empty spot on grid (marked with 0)\n",
    "    def get_spot(self, board, state):\n",
    "        for row in range(board):\n",
    "            for column in range(board):\n",
    "                if state[row][column] == 0:\n",
    "                    return row, column   \n",
    "\n",
    "    def actions(self, state):\n",
    "        number_set = range(1, self.type+1) # Defines set of valid numbers that can be placed on board\n",
    "        in_column = [] # List of valid values in spot's column\n",
    "        in_block = [] # List of valid values in spot's quadrant\n",
    "\n",
    "        row,column = self.get_spot(self.type, state) # Get first empty spot on board\n",
    "\n",
    "        # Filter valid values based on row\n",
    "        in_row = [number for number in state[row] if (number != 0)]\n",
    "        options = self.filter_values(number_set, in_row)\n",
    "\n",
    "        # Filter valid values based on column\n",
    "        for column_index in range(self.type):\n",
    "            if state[column_index][column] != 0:\n",
    "                in_column.append(state[column_index][column])\n",
    "        options = self.filter_values(options, in_column)\n",
    "\n",
    "        # Filter with valid values based on quadrant\n",
    "        row_start = int(row/self.height)*self.height\n",
    "        column_start = int(column/3)*3\n",
    "        \n",
    "        for block_row in range(0, self.height):\n",
    "            for block_column in range(0,3):\n",
    "                in_block.append(state[row_start + block_row][column_start + block_column])\n",
    "        options = self.filter_values(options, in_block)\n",
    "\n",
    "        for number in options:\n",
    "            yield number, row, column      \n",
    "\n",
    "    # Returns updated board after adding new valid value\n",
    "    def result(self, state, action):\n",
    "        play = action[0]\n",
    "        row = action[1]\n",
    "        column = action[2]\n",
    "\n",
    "        # Add new valid value to board\n",
    "        new_state = copy.deepcopy(state)\n",
    "        new_state[row][column] = play\n",
    "\n",
    "        return new_state\n",
    "\n",
    "    # Use sums of each row, column and quadrant to determine validity of board state\n",
    "    def goal_test(self, state):\n",
    "        # Expected sum of each row, column or quadrant.\n",
    "        total = sum(range(1, self.type+1))\n",
    "\n",
    "        # Check rows and columns and return false if total is invalid\n",
    "        for row in range(self.type):\n",
    "            if (len(state[row]) != self.type) or (sum(state[row]) != total):\n",
    "                return False\n",
    "\n",
    "            column_total = 0\n",
    "            for column in range(self.type):\n",
    "                column_total += state[column][row]\n",
    "\n",
    "            if (column_total != total):\n",
    "                return False\n",
    "\n",
    "        # Check quadrants and return false if total is invalid\n",
    "        for column in range(0,self.type,3):\n",
    "            for row in range(0,self.type,self.height):\n",
    "\n",
    "                block_total = 0\n",
    "                for block_row in range(0,self.height):\n",
    "                    for block_column in range(0,3):\n",
    "                        block_total += state[row + block_row][column + block_column]\n",
    "\n",
    "                if (block_total != total):\n",
    "                    return False\n",
    "\n",
    "        return True"
   ]
  },
  {
   "cell_type": "code",
   "execution_count": 3,
   "metadata": {
    "collapsed": true
   },
   "outputs": [],
   "source": [
    "class Node:\n",
    "\n",
    "    def __init__(self, state, action=None):\n",
    "        self.state = state\n",
    "        self.action = action\n",
    "\n",
    "    # Use each action to create a new board state\n",
    "    def expand(self, problem):\n",
    "        return [self.child_node(problem, action)\n",
    "                for action in problem.actions(self.state)]\n",
    "\n",
    "    # Return node with new board state\n",
    "    def child_node(self, problem, action):\n",
    "        next = problem.result(self.state, action)\n",
    "        return Node(next, action)"
   ]
  },
  {
   "cell_type": "code",
   "execution_count": 4,
   "metadata": {
    "collapsed": true
   },
   "outputs": [],
   "source": [
    "def BFS(problem):\n",
    "    # Create initial node of problem tree holding original board\n",
    "    node = Node(problem.initial)\n",
    "    # Check if original board is correct and immediately return if valid\n",
    "    if problem.goal_test(node.state):\n",
    "        return node\n",
    "\n",
    "    frontier = Queue()\n",
    "    frontier.put(node)\n",
    "\n",
    "    # Loop until all nodes are explored or solution found\n",
    "    while (frontier.qsize() != 0):\n",
    "\n",
    "        node = frontier.get()\n",
    "        for child in node.expand(problem):\n",
    "            if problem.goal_test(child.state):\n",
    "                return child\n",
    "\n",
    "            frontier.put(child)\n",
    "\n",
    "    return None"
   ]
  },
  {
   "cell_type": "code",
   "execution_count": 30,
   "metadata": {},
   "outputs": [],
   "source": [
    "def solve_bfs(board):\n",
    "    print (\"\\nSolving with BFS...\")\n",
    "    start_time = time.time()\n",
    "    \n",
    "    switcher = {\n",
    "        0: \"          \",\n",
    "        1: \"      \\   \",\n",
    "        2: \"       \\  \",\n",
    "        3: \"--------\\ \",\n",
    "        4: \"         >\",\n",
    "        5: \"--------/ \",\n",
    "        6: \"       /  \",\n",
    "        7: \"      /   \",\n",
    "        8: \"          \",\n",
    "    }\n",
    "\n",
    "    problem = Problem(board)\n",
    "    solution = BFS(problem)\n",
    "    elapsed_time = time.time() - start_time\n",
    "\n",
    "    if solution:\n",
    "        print (\"Found solution\")\n",
    "        for i, row in enumerate(solution.state):\n",
    "            print (str(board[i]) + switcher.get(i) + str(row))\n",
    "    else:\n",
    "        print (\"No possible solutions\")\n",
    "\n",
    "    print (\"Elapsed time: \" + str(elapsed_time))"
   ]
  },
  {
   "cell_type": "code",
   "execution_count": 41,
   "metadata": {},
   "outputs": [
    {
     "name": "stdout",
     "output_type": "stream",
     "text": [
      "Problem:\n",
      "[0, 0, 9, 0, 7, 0, 0, 0, 5]\n",
      "[0, 0, 2, 1, 0, 0, 9, 0, 0]\n",
      "[1, 0, 0, 0, 2, 8, 0, 0, 0]\n",
      "[0, 7, 0, 0, 0, 5, 0, 0, 1]\n",
      "[0, 0, 8, 5, 1, 0, 0, 0, 0]\n",
      "[0, 5, 0, 0, 0, 0, 3, 0, 0]\n",
      "[0, 0, 0, 0, 0, 3, 0, 0, 6]\n",
      "[8, 0, 0, 0, 0, 0, 0, 0, 0]\n",
      "[2, 1, 0, 0, 0, 0, 0, 8, 7]\n"
     ]
    }
   ],
   "source": [
    "#Testing on invalid 9x9 board...\n",
    "board = [[0,0,9,0,7,0,0,0,5],\n",
    "      [0,0,2,1,0,0,9,0,0],\n",
    "      [1,0,0,0,2,8,0,0,0],\n",
    "      [0,7,0,0,0,5,0,0,1],\n",
    "      [0,0,8,5,1,0,0,0,0],\n",
    "      [0,5,0,0,0,0,3,0,0],\n",
    "      [0,0,0,0,0,3,0,0,6],\n",
    "      [8,0,0,0,0,0,0,0,0],\n",
    "      [2,1,0,0,0,0,0,8,7]]\n",
    "\n",
    "print (\"Problem:\")\n",
    "for row in board:\n",
    "      print (row)"
   ]
  },
  {
   "cell_type": "code",
   "execution_count": 42,
   "metadata": {},
   "outputs": [
    {
     "name": "stdout",
     "output_type": "stream",
     "text": [
      "\n",
      "Solving with BFS...\n",
      "No possible solutions\n",
      "Elapsed time: 1.1669952869415283\n"
     ]
    }
   ],
   "source": [
    "solve_bfs(board)"
   ]
  },
  {
   "cell_type": "code",
   "execution_count": 44,
   "metadata": {},
   "outputs": [
    {
     "name": "stdout",
     "output_type": "stream",
     "text": [
      "Problem:\n",
      "[0, 0, 0, 8, 4, 0, 6, 5, 0]\n",
      "[0, 8, 0, 0, 0, 0, 0, 0, 9]\n",
      "[0, 0, 0, 0, 0, 5, 2, 0, 1]\n",
      "[0, 3, 4, 0, 7, 0, 5, 0, 6]\n",
      "[0, 6, 0, 2, 5, 1, 0, 3, 0]\n",
      "[5, 0, 9, 0, 6, 0, 7, 2, 0]\n",
      "[1, 0, 8, 5, 0, 0, 0, 0, 0]\n",
      "[6, 0, 0, 0, 0, 0, 0, 4, 0]\n",
      "[0, 5, 2, 0, 8, 6, 0, 0, 0]\n"
     ]
    }
   ],
   "source": [
    "#Testing on valid 9x9 board...\n",
    "board = [[0,0,0,8,4,0,6,5,0],\n",
    "      [0,8,0,0,0,0,0,0,9],\n",
    "      [0,0,0,0,0,5,2,0,1],\n",
    "      [0,3,4,0,7,0,5,0,6],\n",
    "      [0,6,0,2,5,1,0,3,0],\n",
    "      [5,0,9,0,6,0,7,2,0],\n",
    "      [1,0,8,5,0,0,0,0,0],\n",
    "      [6,0,0,0,0,0,0,4,0],\n",
    "      [0,5,2,0,8,6,0,0,0]]\n",
    "print (\"Problem:\")\n",
    "for row in board:\n",
    "      print (row)"
   ]
  },
  {
   "cell_type": "code",
   "execution_count": 45,
   "metadata": {},
   "outputs": [
    {
     "name": "stdout",
     "output_type": "stream",
     "text": [
      "\n",
      "Solving with BFS...\n",
      "Found solution\n",
      "[0, 0, 0, 8, 4, 0, 6, 5, 0]          [7, 2, 1, 8, 4, 9, 6, 5, 3]\n",
      "[0, 8, 0, 0, 0, 0, 0, 0, 9]      \\   [3, 8, 5, 6, 1, 2, 4, 7, 9]\n",
      "[0, 0, 0, 0, 0, 5, 2, 0, 1]       \\  [9, 4, 6, 7, 3, 5, 2, 8, 1]\n",
      "[0, 3, 4, 0, 7, 0, 5, 0, 6]--------\\ [2, 3, 4, 9, 7, 8, 5, 1, 6]\n",
      "[0, 6, 0, 2, 5, 1, 0, 3, 0]         >[8, 6, 7, 2, 5, 1, 9, 3, 4]\n",
      "[5, 0, 9, 0, 6, 0, 7, 2, 0]--------/ [5, 1, 9, 4, 6, 3, 7, 2, 8]\n",
      "[1, 0, 8, 5, 0, 0, 0, 0, 0]       /  [1, 7, 8, 5, 9, 4, 3, 6, 2]\n",
      "[6, 0, 0, 0, 0, 0, 0, 4, 0]      /   [6, 9, 3, 1, 2, 7, 8, 4, 5]\n",
      "[0, 5, 2, 0, 8, 6, 0, 0, 0]          [4, 5, 2, 3, 8, 6, 1, 9, 7]\n",
      "Elapsed time: 0.25800156593322754\n"
     ]
    }
   ],
   "source": [
    "solve_bfs(board)"
   ]
  },
  {
   "cell_type": "code",
   "execution_count": 46,
   "metadata": {},
   "outputs": [
    {
     "name": "stdout",
     "output_type": "stream",
     "text": [
      "Problem:\n",
      "[9, 7, 4, 2, 3, 6, 1, 5, 8]\n",
      "[6, 3, 8, 5, 9, 1, 7, 4, 2]\n",
      "[1, 2, 5, 4, 8, 7, 9, 3, 6]\n",
      "[3, 1, 6, 7, 5, 4, 2, 8, 9]\n",
      "[7, 4, 2, 9, 1, 8, 5, 6, 3]\n",
      "[5, 8, 9, 3, 6, 2, 4, 1, 7]\n",
      "[8, 6, 7, 1, 2, 5, 3, 9, 4]\n",
      "[2, 5, 3, 6, 4, 9, 8, 7, 1]\n",
      "[4, 9, 1, 8, 7, 3, 6, 2, 5]\n"
     ]
    }
   ],
   "source": [
    "#Testing on filled valid 9x9 board...\n",
    "board = [[9,7,4,2,3,6,1,5,8],\n",
    "      [6,3,8,5,9,1,7,4,2],\n",
    "      [1,2,5,4,8,7,9,3,6],\n",
    "      [3,1,6,7,5,4,2,8,9],\n",
    "      [7,4,2,9,1,8,5,6,3],\n",
    "      [5,8,9,3,6,2,4,1,7],\n",
    "      [8,6,7,1,2,5,3,9,4],\n",
    "      [2,5,3,6,4,9,8,7,1],\n",
    "      [4,9,1,8,7,3,6,2,5]]\n",
    "print (\"Problem:\")\n",
    "for row in board:\n",
    "      print (row)"
   ]
  },
  {
   "cell_type": "code",
   "execution_count": 47,
   "metadata": {},
   "outputs": [
    {
     "name": "stdout",
     "output_type": "stream",
     "text": [
      "\n",
      "Solving with BFS...\n",
      "Found solution\n",
      "[9, 7, 4, 2, 3, 6, 1, 5, 8]          [9, 7, 4, 2, 3, 6, 1, 5, 8]\n",
      "[6, 3, 8, 5, 9, 1, 7, 4, 2]      \\   [6, 3, 8, 5, 9, 1, 7, 4, 2]\n",
      "[1, 2, 5, 4, 8, 7, 9, 3, 6]       \\  [1, 2, 5, 4, 8, 7, 9, 3, 6]\n",
      "[3, 1, 6, 7, 5, 4, 2, 8, 9]--------\\ [3, 1, 6, 7, 5, 4, 2, 8, 9]\n",
      "[7, 4, 2, 9, 1, 8, 5, 6, 3]         >[7, 4, 2, 9, 1, 8, 5, 6, 3]\n",
      "[5, 8, 9, 3, 6, 2, 4, 1, 7]--------/ [5, 8, 9, 3, 6, 2, 4, 1, 7]\n",
      "[8, 6, 7, 1, 2, 5, 3, 9, 4]       /  [8, 6, 7, 1, 2, 5, 3, 9, 4]\n",
      "[2, 5, 3, 6, 4, 9, 8, 7, 1]      /   [2, 5, 3, 6, 4, 9, 8, 7, 1]\n",
      "[4, 9, 1, 8, 7, 3, 6, 2, 5]          [4, 9, 1, 8, 7, 3, 6, 2, 5]\n",
      "Elapsed time: 0.0\n"
     ]
    }
   ],
   "source": [
    "solve_bfs(board)"
   ]
  },
  {
   "cell_type": "code",
   "execution_count": 48,
   "metadata": {},
   "outputs": [
    {
     "name": "stdout",
     "output_type": "stream",
     "text": [
      "Problem:\n",
      "[3, 0, 5, 4, 2, 0, 8, 1, 0]\n",
      "[4, 8, 7, 9, 0, 1, 5, 0, 6]\n",
      "[0, 2, 9, 0, 5, 6, 3, 7, 4]\n",
      "[8, 5, 0, 7, 9, 3, 0, 4, 1]\n",
      "[6, 1, 3, 2, 0, 8, 9, 5, 7]\n",
      "[0, 7, 4, 0, 6, 5, 2, 8, 0]\n",
      "[2, 4, 1, 3, 0, 9, 0, 6, 5]\n",
      "[5, 0, 8, 6, 7, 0, 1, 9, 2]\n",
      "[0, 9, 6, 5, 1, 2, 4, 0, 8]\n"
     ]
    }
   ],
   "source": [
    "# Testing on valid 9x9 board...\n",
    "board = [[3,0,5,4,2,0,8,1,0],\n",
    "      [4,8,7,9,0,1,5,0,6],\n",
    "      [0,2,9,0,5,6,3,7,4],\n",
    "      [8,5,0,7,9,3,0,4,1],\n",
    "      [6,1,3,2,0,8,9,5,7],\n",
    "      [0,7,4,0,6,5,2,8,0],\n",
    "      [2,4,1,3,0,9,0,6,5],\n",
    "      [5,0,8,6,7,0,1,9,2],\n",
    "      [0,9,6,5,1,2,4,0,8]]\n",
    "print (\"Problem:\")\n",
    "for row in board:\n",
    "      print (row)"
   ]
  },
  {
   "cell_type": "code",
   "execution_count": 49,
   "metadata": {},
   "outputs": [
    {
     "name": "stdout",
     "output_type": "stream",
     "text": [
      "\n",
      "Solving with BFS...\n",
      "Found solution\n",
      "[3, 0, 5, 4, 2, 0, 8, 1, 0]          [3, 6, 5, 4, 2, 7, 8, 1, 9]\n",
      "[4, 8, 7, 9, 0, 1, 5, 0, 6]      \\   [4, 8, 7, 9, 3, 1, 5, 2, 6]\n",
      "[0, 2, 9, 0, 5, 6, 3, 7, 4]       \\  [1, 2, 9, 8, 5, 6, 3, 7, 4]\n",
      "[8, 5, 0, 7, 9, 3, 0, 4, 1]--------\\ [8, 5, 2, 7, 9, 3, 6, 4, 1]\n",
      "[6, 1, 3, 2, 0, 8, 9, 5, 7]         >[6, 1, 3, 2, 4, 8, 9, 5, 7]\n",
      "[0, 7, 4, 0, 6, 5, 2, 8, 0]--------/ [9, 7, 4, 1, 6, 5, 2, 8, 3]\n",
      "[2, 4, 1, 3, 0, 9, 0, 6, 5]       /  [2, 4, 1, 3, 8, 9, 7, 6, 5]\n",
      "[5, 0, 8, 6, 7, 0, 1, 9, 2]      /   [5, 3, 8, 6, 7, 4, 1, 9, 2]\n",
      "[0, 9, 6, 5, 1, 2, 4, 0, 8]          [7, 9, 6, 5, 1, 2, 4, 3, 8]\n",
      "Elapsed time: 0.003000020980834961\n"
     ]
    }
   ],
   "source": [
    "solve_bfs(board)"
   ]
  },
  {
   "cell_type": "code",
   "execution_count": 50,
   "metadata": {},
   "outputs": [
    {
     "name": "stdout",
     "output_type": "stream",
     "text": [
      "Problem:\n",
      "[0, 9, 0, 3, 0, 0, 0, 0, 1]\n",
      "[0, 0, 0, 0, 8, 0, 0, 4, 6]\n",
      "[0, 0, 0, 0, 0, 0, 8, 0, 0]\n",
      "[4, 0, 5, 0, 6, 0, 0, 3, 0]\n",
      "[0, 0, 3, 2, 7, 5, 6, 0, 0]\n",
      "[0, 6, 0, 0, 1, 0, 9, 0, 4]\n",
      "[0, 0, 1, 0, 0, 0, 0, 0, 0]\n",
      "[5, 8, 0, 0, 2, 0, 0, 0, 0]\n",
      "[2, 0, 0, 0, 0, 7, 0, 6, 0]\n"
     ]
    }
   ],
   "source": [
    "# Testing unsolvable quadrant on a 9x9 board...\n",
    "board = [[0,9,0,3,0,0,0,0,1],\n",
    "      [0,0,0,0,8,0,0,4,6],\n",
    "      [0,0,0,0,0,0,8,0,0],\n",
    "      [4,0,5,0,6,0,0,3,0],\n",
    "      [0,0,3,2,7,5,6,0,0],\n",
    "      [0,6,0,0,1,0,9,0,4],\n",
    "      [0,0,1,0,0,0,0,0,0],\n",
    "      [5,8,0,0,2,0,0,0,0],\n",
    "      [2,0,0,0,0,7,0,6,0]]\n",
    "print (\"Problem:\")\n",
    "for row in board:\n",
    "      print (row)"
   ]
  },
  {
   "cell_type": "code",
   "execution_count": 51,
   "metadata": {},
   "outputs": [
    {
     "name": "stdout",
     "output_type": "stream",
     "text": [
      "\n",
      "Solving with BFS...\n",
      "No possible solutions\n",
      "Elapsed time: 0.9689986705780029\n"
     ]
    }
   ],
   "source": [
    "solve_bfs(board)"
   ]
  }
 ],
 "metadata": {
  "kernelspec": {
   "display_name": "Python [conda env:py3]",
   "language": "python",
   "name": "conda-env-py3-py"
  },
  "language_info": {
   "codemirror_mode": {
    "name": "ipython",
    "version": 3
   },
   "file_extension": ".py",
   "mimetype": "text/x-python",
   "name": "python",
   "nbconvert_exporter": "python",
   "pygments_lexer": "ipython3",
   "version": "3.6.2"
  }
 },
 "nbformat": 4,
 "nbformat_minor": 2
}
