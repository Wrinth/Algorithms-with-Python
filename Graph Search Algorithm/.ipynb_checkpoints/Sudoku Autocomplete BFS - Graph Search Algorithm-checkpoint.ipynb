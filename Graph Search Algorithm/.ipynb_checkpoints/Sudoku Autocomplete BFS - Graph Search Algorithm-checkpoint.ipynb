{
 "cells": [
  {
   "cell_type": "markdown",
   "metadata": {},
   "source": [
    "# Sudoku Autocomplete BFS - Graph Search Algorithm"
   ]
  },
  {
   "cell_type": "code",
   "execution_count": 1,
   "metadata": {
    "collapsed": true
   },
   "outputs": [],
   "source": [
    "from queue import Queue\n",
    "import copy\n",
    "import time"
   ]
  },
  {
   "cell_type": "code",
   "execution_count": 2,
   "metadata": {
    "collapsed": true
   },
   "outputs": [],
   "source": [
    "class Problem(object):\n",
    "    def __init__(self, initial):\n",
    "        self.initial = initial\n",
    "        self.type = len(initial) # Defines board type, either 6x6 or 9x9\n",
    "        self.height = int(self.type/3) # Defines height of quadrant (2 for 6x6, 3 for 9x9)\n",
    "\n",
    "    # Return set of valid numbers from values that do not appear in used\n",
    "    def filter_values(self, possible_values, used):\n",
    "        return [number for number in possible_values if number not in used]\n",
    "\n",
    "    # Return first empty spot on grid (marked with 0)\n",
    "    def get_spot(self, board, state):\n",
    "        for row in range(board):\n",
    "            for column in range(board):\n",
    "                if state[row][column] == 0:\n",
    "                    return row, column   \n",
    "\n",
    "    def actions(self, state):\n",
    "        number_set = range(1, self.type+1) # Defines set of valid numbers that can be placed on board\n",
    "        in_column = [] # List of valid values in spot's column\n",
    "        in_block = [] # List of valid values in spot's quadrant\n",
    "\n",
    "        row,column = self.get_spot(self.type, state) # Get first empty spot on board\n",
    "\n",
    "        # Filter valid values based on row\n",
    "        in_row = [number for number in state[row] if (number != 0)]\n",
    "        options = self.filter_values(number_set, in_row)\n",
    "\n",
    "        # Filter valid values based on column\n",
    "        for column_index in range(self.type):\n",
    "            if state[column_index][column] != 0:\n",
    "                in_column.append(state[column_index][column])\n",
    "        options = self.filter_values(options, in_column)\n",
    "\n",
    "        # Filter with valid values based on quadrant\n",
    "        row_start = int(row/self.height)*self.height\n",
    "        column_start = int(column/3)*3\n",
    "        \n",
    "        for block_row in range(0, self.height):\n",
    "            for block_column in range(0,3):\n",
    "                in_block.append(state[row_start + block_row][column_start + block_column])\n",
    "        options = self.filter_values(options, in_block)\n",
    "\n",
    "        for number in options:\n",
    "            yield number, row, column      \n",
    "\n",
    "    # Returns updated board after adding new valid value\n",
    "    def result(self, state, action):\n",
    "        play = action[0]\n",
    "        row = action[1]\n",
    "        column = action[2]\n",
    "\n",
    "        # Add new valid value to board\n",
    "        new_state = copy.deepcopy(state)\n",
    "        new_state[row][column] = play\n",
    "\n",
    "        return new_state\n",
    "\n",
    "    # Use sums of each row, column and quadrant to determine validity of board state\n",
    "    def goal_test(self, state):\n",
    "        # Expected sum of each row, column or quadrant.\n",
    "        total = sum(range(1, self.type+1))\n",
    "\n",
    "        # Check rows and columns and return false if total is invalid\n",
    "        for row in range(self.type):\n",
    "            if (len(state[row]) != self.type) or (sum(state[row]) != total):\n",
    "                return False\n",
    "\n",
    "            column_total = 0\n",
    "            for column in range(self.type):\n",
    "                column_total += state[column][row]\n",
    "\n",
    "            if (column_total != total):\n",
    "                return False\n",
    "\n",
    "        # Check quadrants and return false if total is invalid\n",
    "        for column in range(0,self.type,3):\n",
    "            for row in range(0,self.type,self.height):\n",
    "\n",
    "                block_total = 0\n",
    "                for block_row in range(0,self.height):\n",
    "                    for block_column in range(0,3):\n",
    "                        block_total += state[row + block_row][column + block_column]\n",
    "\n",
    "                if (block_total != total):\n",
    "                    return False\n",
    "\n",
    "        return True"
   ]
  },
  {
   "cell_type": "code",
   "execution_count": 3,
   "metadata": {
    "collapsed": true
   },
   "outputs": [],
   "source": [
    "class Node:\n",
    "\n",
    "    def __init__(self, state, action=None):\n",
    "        self.state = state\n",
    "        self.action = action\n",
    "\n",
    "    # Use each action to create a new board state\n",
    "    def expand(self, problem):\n",
    "        return [self.child_node(problem, action)\n",
    "                for action in problem.actions(self.state)]\n",
    "\n",
    "    # Return node with new board state\n",
    "    def child_node(self, problem, action):\n",
    "        next = problem.result(self.state, action)\n",
    "        return Node(next, action)"
   ]
  },
  {
   "cell_type": "code",
   "execution_count": 4,
   "metadata": {
    "collapsed": true
   },
   "outputs": [],
   "source": [
    "def BFS(problem):\n",
    "    # Create initial node of problem tree holding original board\n",
    "    node = Node(problem.initial)\n",
    "    # Check if original board is correct and immediately return if valid\n",
    "    if problem.goal_test(node.state):\n",
    "        return node\n",
    "\n",
    "    frontier = Queue()\n",
    "    frontier.put(node)\n",
    "\n",
    "    # Loop until all nodes are explored or solution found\n",
    "    while (frontier.qsize() != 0):\n",
    "\n",
    "        node = frontier.get()\n",
    "        for child in node.expand(problem):\n",
    "            if problem.goal_test(child.state):\n",
    "                return child\n",
    "\n",
    "            frontier.put(child)\n",
    "\n",
    "    return None"
   ]
  },
  {
   "cell_type": "code",
   "execution_count": 5,
   "metadata": {
    "collapsed": true
   },
   "outputs": [],
   "source": [
    "def solve_bfs(board):\n",
    "    print (\"\\nSolving with BFS...\")\n",
    "    start_time = time.time()\n",
    "\n",
    "    problem = Problem(board)\n",
    "    solution = BFS(problem)\n",
    "    elapsed_time = time.time() - start_time\n",
    "\n",
    "    if solution:\n",
    "        print (\"Found solution\")\n",
    "        for row in solution.state:\n",
    "            print (row)\n",
    "    else:\n",
    "        print (\"No possible solutions\")\n",
    "\n",
    "    print (\"Elapsed time: \" + str(elapsed_time))"
   ]
  },
  {
   "cell_type": "code",
   "execution_count": 6,
   "metadata": {
    "collapsed": true
   },
   "outputs": [],
   "source": [
    "#Testing on invalid 9x9 board...\n",
    "board = [[0,0,9,0,7,0,0,0,5],\n",
    "      [0,0,2,1,0,0,9,0,0],\n",
    "      [1,0,0,0,2,8,0,0,0],\n",
    "      [0,7,0,0,0,5,0,0,1],\n",
    "      [0,0,8,5,1,0,0,0,0],\n",
    "      [0,5,0,0,0,0,3,0,0],\n",
    "      [0,0,0,0,0,3,0,0,6],\n",
    "      [8,0,0,0,0,0,0,0,0],\n",
    "      [2,1,0,0,0,0,0,8,7]]"
   ]
  },
  {
   "cell_type": "code",
   "execution_count": 7,
   "metadata": {},
   "outputs": [
    {
     "name": "stdout",
     "output_type": "stream",
     "text": [
      "Problem:\n",
      "[0, 0, 9, 0, 7, 0, 0, 0, 5]\n",
      "[0, 0, 2, 1, 0, 0, 9, 0, 0]\n",
      "[1, 0, 0, 0, 2, 8, 0, 0, 0]\n",
      "[0, 7, 0, 0, 0, 5, 0, 0, 1]\n",
      "[0, 0, 8, 5, 1, 0, 0, 0, 0]\n",
      "[0, 5, 0, 0, 0, 0, 3, 0, 0]\n",
      "[0, 0, 0, 0, 0, 3, 0, 0, 6]\n",
      "[8, 0, 0, 0, 0, 0, 0, 0, 0]\n",
      "[2, 1, 0, 0, 0, 0, 0, 8, 7]\n"
     ]
    }
   ],
   "source": [
    "print (\"Problem:\")\n",
    "for row in board:\n",
    "      print (row)"
   ]
  },
  {
   "cell_type": "code",
   "execution_count": 8,
   "metadata": {},
   "outputs": [
    {
     "name": "stdout",
     "output_type": "stream",
     "text": [
      "\n",
      "Solving with BFS...\n",
      "No possible solutions\n",
      "Elapsed time: 1.1401898860931396\n"
     ]
    }
   ],
   "source": [
    "solve_bfs(board)"
   ]
  },
  {
   "cell_type": "code",
   "execution_count": 9,
   "metadata": {
    "collapsed": true
   },
   "outputs": [],
   "source": [
    "#Testing on 9x9 board...\n",
    "board = [[0,0,0,8,4,0,6,5,0],\n",
    "      [0,8,0,0,0,0,0,0,9],\n",
    "      [0,0,0,0,0,5,2,0,1],\n",
    "      [0,3,4,0,7,0,5,0,6],\n",
    "      [0,6,0,2,5,1,0,3,0],\n",
    "      [5,0,9,0,6,0,7,2,0],\n",
    "      [1,0,8,5,0,0,0,0,0],\n",
    "      [6,0,0,0,0,0,0,4,0],\n",
    "      [0,5,2,0,8,6,0,0,0]]"
   ]
  },
  {
   "cell_type": "code",
   "execution_count": 10,
   "metadata": {},
   "outputs": [
    {
     "name": "stdout",
     "output_type": "stream",
     "text": [
      "Problem:\n",
      "[0, 0, 0, 8, 4, 0, 6, 5, 0]\n",
      "[0, 8, 0, 0, 0, 0, 0, 0, 9]\n",
      "[0, 0, 0, 0, 0, 5, 2, 0, 1]\n",
      "[0, 3, 4, 0, 7, 0, 5, 0, 6]\n",
      "[0, 6, 0, 2, 5, 1, 0, 3, 0]\n",
      "[5, 0, 9, 0, 6, 0, 7, 2, 0]\n",
      "[1, 0, 8, 5, 0, 0, 0, 0, 0]\n",
      "[6, 0, 0, 0, 0, 0, 0, 4, 0]\n",
      "[0, 5, 2, 0, 8, 6, 0, 0, 0]\n"
     ]
    }
   ],
   "source": [
    "print (\"Problem:\")\n",
    "for row in board:\n",
    "      print (row)"
   ]
  },
  {
   "cell_type": "code",
   "execution_count": 11,
   "metadata": {},
   "outputs": [
    {
     "name": "stdout",
     "output_type": "stream",
     "text": [
      "\n",
      "Solving with BFS...\n",
      "Found solution\n",
      "[7, 2, 1, 8, 4, 9, 6, 5, 3]\n",
      "[3, 8, 5, 6, 1, 2, 4, 7, 9]\n",
      "[9, 4, 6, 7, 3, 5, 2, 8, 1]\n",
      "[2, 3, 4, 9, 7, 8, 5, 1, 6]\n",
      "[8, 6, 7, 2, 5, 1, 9, 3, 4]\n",
      "[5, 1, 9, 4, 6, 3, 7, 2, 8]\n",
      "[1, 7, 8, 5, 9, 4, 3, 6, 2]\n",
      "[6, 9, 3, 1, 2, 7, 8, 4, 5]\n",
      "[4, 5, 2, 3, 8, 6, 1, 9, 7]\n",
      "Elapsed time: 0.2434084415435791\n"
     ]
    }
   ],
   "source": [
    "solve_bfs(board)"
   ]
  },
  {
   "cell_type": "code",
   "execution_count": 12,
   "metadata": {
    "collapsed": true
   },
   "outputs": [],
   "source": [
    "#Testing on filled valid 9x9 board...\n",
    "board = [[9,7,4,2,3,6,1,5,8],\n",
    "      [6,3,8,5,9,1,7,4,2],\n",
    "      [1,2,5,4,8,7,9,3,6],\n",
    "      [3,1,6,7,5,4,2,8,9],\n",
    "      [7,4,2,9,1,8,5,6,3],\n",
    "      [5,8,9,3,6,2,4,1,7],\n",
    "      [8,6,7,1,2,5,3,9,4],\n",
    "      [2,5,3,6,4,9,8,7,1],\n",
    "      [4,9,1,8,7,3,6,2,5]]"
   ]
  },
  {
   "cell_type": "code",
   "execution_count": 13,
   "metadata": {},
   "outputs": [
    {
     "name": "stdout",
     "output_type": "stream",
     "text": [
      "Problem:\n",
      "[9, 7, 4, 2, 3, 6, 1, 5, 8]\n",
      "[6, 3, 8, 5, 9, 1, 7, 4, 2]\n",
      "[1, 2, 5, 4, 8, 7, 9, 3, 6]\n",
      "[3, 1, 6, 7, 5, 4, 2, 8, 9]\n",
      "[7, 4, 2, 9, 1, 8, 5, 6, 3]\n",
      "[5, 8, 9, 3, 6, 2, 4, 1, 7]\n",
      "[8, 6, 7, 1, 2, 5, 3, 9, 4]\n",
      "[2, 5, 3, 6, 4, 9, 8, 7, 1]\n",
      "[4, 9, 1, 8, 7, 3, 6, 2, 5]\n"
     ]
    }
   ],
   "source": [
    "print (\"Problem:\")\n",
    "for row in board:\n",
    "      print (row)"
   ]
  },
  {
   "cell_type": "code",
   "execution_count": 14,
   "metadata": {},
   "outputs": [
    {
     "name": "stdout",
     "output_type": "stream",
     "text": [
      "\n",
      "Solving with BFS...\n",
      "Found solution\n",
      "[9, 7, 4, 2, 3, 6, 1, 5, 8]\n",
      "[6, 3, 8, 5, 9, 1, 7, 4, 2]\n",
      "[1, 2, 5, 4, 8, 7, 9, 3, 6]\n",
      "[3, 1, 6, 7, 5, 4, 2, 8, 9]\n",
      "[7, 4, 2, 9, 1, 8, 5, 6, 3]\n",
      "[5, 8, 9, 3, 6, 2, 4, 1, 7]\n",
      "[8, 6, 7, 1, 2, 5, 3, 9, 4]\n",
      "[2, 5, 3, 6, 4, 9, 8, 7, 1]\n",
      "[4, 9, 1, 8, 7, 3, 6, 2, 5]\n",
      "Elapsed time: 0.0\n"
     ]
    }
   ],
   "source": [
    "solve_bfs(board)"
   ]
  },
  {
   "cell_type": "code",
   "execution_count": null,
   "metadata": {
    "collapsed": true
   },
   "outputs": [],
   "source": []
  }
 ],
 "metadata": {
  "kernelspec": {
   "display_name": "Python [conda env:py3]",
   "language": "python",
   "name": "conda-env-py3-py"
  },
  "language_info": {
   "codemirror_mode": {
    "name": "ipython",
    "version": 3
   },
   "file_extension": ".py",
   "mimetype": "text/x-python",
   "name": "python",
   "nbconvert_exporter": "python",
   "pygments_lexer": "ipython3",
   "version": "3.6.2"
  }
 },
 "nbformat": 4,
 "nbformat_minor": 2
}
