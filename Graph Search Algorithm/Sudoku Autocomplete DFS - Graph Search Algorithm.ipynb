{
 "cells": [
  {
   "cell_type": "markdown",
   "metadata": {},
   "source": [
    "# Sudoku Autocomplete DFS - Graph Search Algorithm"
   ]
  },
  {
   "cell_type": "markdown",
   "metadata": {},
   "source": []
  },
  {
   "cell_type": "code",
   "execution_count": 1,
   "metadata": {
    "collapsed": true
   },
   "outputs": [],
   "source": [
    "import copy\n",
    "import time"
   ]
  },
  {
   "cell_type": "code",
   "execution_count": 3,
   "metadata": {
    "collapsed": true
   },
   "outputs": [],
   "source": [
    "class Problem(object):\n",
    "\n",
    "    def __init__(self, initial):\n",
    "        self.initial = initial\n",
    "        self.type = len(initial) # Defines board type, either 6x6 or 9x9\n",
    "        self.height = int(self.type/3) # Defines height of quadrant (2 for 6x6, 3 for 9x9)\n",
    "\n",
    "    def goal_test(self, state):\n",
    "        # Expected sum of each row, column or quadrant.\n",
    "        total = sum(range(1, self.type+1))\n",
    "\n",
    "        # Check rows and columns and return false if total is invalid\n",
    "        for row in range(self.type):\n",
    "            if (len(state[row]) != self.type) or (sum(state[row]) != total):\n",
    "                return False\n",
    "\n",
    "            column_total = 0\n",
    "            for column in range(self.type):\n",
    "                column_total += state[column][row]\n",
    "\n",
    "            if (column_total != total):\n",
    "                return False\n",
    "\n",
    "        # Check quadrants and return false if total is invalid\n",
    "        for column in range(0,self.type,3):\n",
    "            for row in range(0,self.type,self.height):\n",
    "\n",
    "                block_total = 0\n",
    "                for block_row in range(0,self.height):\n",
    "                    for block_column in range(0,3):\n",
    "                        block_total += state[row + block_row][column + block_column]\n",
    "\n",
    "                if (block_total != total):\n",
    "                    return False\n",
    "\n",
    "        return True\n",
    "\n",
    "    # Return set of valid numbers from values that do not appear in used\n",
    "    def filter_values(self, values, used):\n",
    "        return [number for number in values if number not in used]\n",
    "\n",
    "    # Return first empty spot on grid (marked with 0)\n",
    "    def get_spot(self, board, state):\n",
    "        for row in range(board):\n",
    "            for column in range(board):\n",
    "                if state[row][column] == 0:\n",
    "                    return row, column\n",
    "\n",
    "    # Filter valid values based on row\n",
    "    def filter_row(self, state, row):\n",
    "        number_set = range(1, self.type+1) # Defines set of valid numbers that can be placed on board\n",
    "        in_row = [number for number in state[row] if (number != 0)]\n",
    "        options = self.filter_values(number_set, in_row)\n",
    "        return options\n",
    "\n",
    "    # Filter valid values based on column\n",
    "    def filter_col(self, options, state, column):\n",
    "        in_column = [] # List of valid values in spot's column\n",
    "        for column_index in range(self.type):\n",
    "            if state[column_index][column] != 0:\n",
    "                in_column.append(state[column_index][column])\n",
    "        options = self.filter_values(options, in_column)\n",
    "        return options\n",
    "\n",
    "    # Filter valid values based on quadrant\n",
    "    def filter_quad(self, options, state, row, column):\n",
    "        in_block = [] # List of valid values in spot's quadrant\n",
    "        row_start = int(row/self.height)*self.height\n",
    "        column_start = int(column/3)*3\n",
    "        \n",
    "        for block_row in range(0, self.height):\n",
    "            for block_column in range(0,3):\n",
    "                in_block.append(state[row_start + block_row][column_start + block_column])\n",
    "        options = self.filter_values(options, in_block)\n",
    "        return options    \n",
    "\n",
    "    def actions(self, state):\n",
    "        row,column = self.get_spot(self.type, state) # Get first empty spot on board\n",
    "\n",
    "        # Remove spot's invalid options\n",
    "        options = self.filter_row(state, row)\n",
    "        options = self.filter_col(options, state, column)\n",
    "        options = self.filter_quad(options, state, row, column)\n",
    "\n",
    "        # Yield a state for each valid option\n",
    "        for number in options:\n",
    "            new_state = copy.deepcopy(state)\n",
    "            new_state[row][column] = number\n",
    "            yield new_state"
   ]
  },
  {
   "cell_type": "code",
   "execution_count": 4,
   "metadata": {
    "collapsed": true
   },
   "outputs": [],
   "source": [
    "class Node:\n",
    "\n",
    "    def __init__(self, state):\n",
    "        self.state = state\n",
    "\n",
    "    def expand(self, problem):\n",
    "        # Return list of valid states\n",
    "        return [Node(state) for state in problem.actions(self.state)]"
   ]
  },
  {
   "cell_type": "code",
   "execution_count": 5,
   "metadata": {
    "collapsed": true
   },
   "outputs": [],
   "source": [
    "def DFS(problem):\n",
    "    start = Node(problem.initial)\n",
    "    if problem.goal_test(start.state):\n",
    "        return start.state\n",
    "\n",
    "    stack = []\n",
    "    stack.append(start) # Place initial node onto the stack\n",
    "\n",
    "    while stack:\n",
    "        node = stack.pop()\n",
    "        if problem.goal_test(node.state):\n",
    "            return node.state\n",
    "        stack.extend(node.expand(problem)) # Add viable states onto the stack\n",
    "\n",
    "    return None"
   ]
  },
  {
   "cell_type": "code",
   "execution_count": 28,
   "metadata": {
    "collapsed": true
   },
   "outputs": [],
   "source": [
    "def solve_dfs(board):\n",
    "    print (\"\\nSolving with DFS...\")\n",
    "    start_time = time.time()\n",
    "    problem = Problem(board)\n",
    "    solution = DFS(problem)\n",
    "    elapsed_time = time.time() - start_time\n",
    "    \n",
    "    switcher = {\n",
    "        0: \"          \",\n",
    "        1: \"      \\   \",\n",
    "        2: \"       \\  \",\n",
    "        3: \"--------\\ \",\n",
    "        4: \"         >\",\n",
    "        5: \"--------/ \",\n",
    "        6: \"       /  \",\n",
    "        7: \"      /   \",\n",
    "        8: \"          \",\n",
    "    }\n",
    "\n",
    "    if solution:\n",
    "        print (\"Found solution\")\n",
    "        for i, row in enumerate(solution):\n",
    "            print (str(board[i]) + switcher.get(i) + str(row))\n",
    "    else:\n",
    "        print (\"No possible solutions\")\n",
    "\n",
    "    print (\"Elapsed time: \" + str(elapsed_time))"
   ]
  },
  {
   "cell_type": "code",
   "execution_count": 29,
   "metadata": {},
   "outputs": [
    {
     "name": "stdout",
     "output_type": "stream",
     "text": [
      "Problem:\n",
      "[0, 0, 9, 0, 7, 0, 0, 0, 5]\n",
      "[0, 0, 2, 1, 0, 0, 9, 0, 0]\n",
      "[1, 0, 0, 0, 2, 8, 0, 0, 0]\n",
      "[0, 7, 0, 0, 0, 5, 0, 0, 1]\n",
      "[0, 0, 8, 5, 1, 0, 0, 0, 0]\n",
      "[0, 5, 0, 0, 0, 0, 3, 0, 0]\n",
      "[0, 0, 0, 0, 0, 3, 0, 0, 6]\n",
      "[8, 0, 0, 0, 0, 0, 0, 0, 0]\n",
      "[2, 1, 0, 0, 0, 0, 0, 8, 7]\n"
     ]
    }
   ],
   "source": [
    "#Testing on invalid 9x9 board...\n",
    "board = [[0,0,9,0,7,0,0,0,5],\n",
    "      [0,0,2,1,0,0,9,0,0],\n",
    "      [1,0,0,0,2,8,0,0,0],\n",
    "      [0,7,0,0,0,5,0,0,1],\n",
    "      [0,0,8,5,1,0,0,0,0],\n",
    "      [0,5,0,0,0,0,3,0,0],\n",
    "      [0,0,0,0,0,3,0,0,6],\n",
    "      [8,0,0,0,0,0,0,0,0],\n",
    "      [2,1,0,0,0,0,0,8,7]]\n",
    "print (\"Problem:\")\n",
    "for row in board:\n",
    "      print (row)"
   ]
  },
  {
   "cell_type": "code",
   "execution_count": 30,
   "metadata": {},
   "outputs": [
    {
     "name": "stdout",
     "output_type": "stream",
     "text": [
      "\n",
      "Solving with DFS...\n",
      "No possible solutions\n",
      "Elapsed time: 1.1999728679656982\n"
     ]
    }
   ],
   "source": [
    "solve_dfs(board)"
   ]
  },
  {
   "cell_type": "code",
   "execution_count": 31,
   "metadata": {},
   "outputs": [
    {
     "name": "stdout",
     "output_type": "stream",
     "text": [
      "Problem:\n",
      "[0, 0, 0, 8, 4, 0, 6, 5, 0]\n",
      "[0, 8, 0, 0, 0, 0, 0, 0, 9]\n",
      "[0, 0, 0, 0, 0, 5, 2, 0, 1]\n",
      "[0, 3, 4, 0, 7, 0, 5, 0, 6]\n",
      "[0, 6, 0, 2, 5, 1, 0, 3, 0]\n",
      "[5, 0, 9, 0, 6, 0, 7, 2, 0]\n",
      "[1, 0, 8, 5, 0, 0, 0, 0, 0]\n",
      "[6, 0, 0, 0, 0, 0, 0, 4, 0]\n",
      "[0, 5, 2, 0, 8, 6, 0, 0, 0]\n"
     ]
    }
   ],
   "source": [
    "#Testing on valid 9x9 board...\n",
    "board = [[0,0,0,8,4,0,6,5,0],\n",
    "      [0,8,0,0,0,0,0,0,9],\n",
    "      [0,0,0,0,0,5,2,0,1],\n",
    "      [0,3,4,0,7,0,5,0,6],\n",
    "      [0,6,0,2,5,1,0,3,0],\n",
    "      [5,0,9,0,6,0,7,2,0],\n",
    "      [1,0,8,5,0,0,0,0,0],\n",
    "      [6,0,0,0,0,0,0,4,0],\n",
    "      [0,5,2,0,8,6,0,0,0]]\n",
    "print (\"Problem:\")\n",
    "for row in board:\n",
    "      print (row)"
   ]
  },
  {
   "cell_type": "code",
   "execution_count": 32,
   "metadata": {},
   "outputs": [
    {
     "name": "stdout",
     "output_type": "stream",
     "text": [
      "\n",
      "Solving with DFS...\n",
      "Found solution\n",
      "[0, 0, 0, 8, 4, 0, 6, 5, 0]          [7, 2, 1, 8, 4, 9, 6, 5, 3]\n",
      "[0, 8, 0, 0, 0, 0, 0, 0, 9]      \\   [3, 8, 5, 6, 1, 2, 4, 7, 9]\n",
      "[0, 0, 0, 0, 0, 5, 2, 0, 1]       \\  [9, 4, 6, 7, 3, 5, 2, 8, 1]\n",
      "[0, 3, 4, 0, 7, 0, 5, 0, 6]--------\\ [2, 3, 4, 9, 7, 8, 5, 1, 6]\n",
      "[0, 6, 0, 2, 5, 1, 0, 3, 0]         >[8, 6, 7, 2, 5, 1, 9, 3, 4]\n",
      "[5, 0, 9, 0, 6, 0, 7, 2, 0]--------/ [5, 1, 9, 4, 6, 3, 7, 2, 8]\n",
      "[1, 0, 8, 5, 0, 0, 0, 0, 0]       /  [1, 7, 8, 5, 9, 4, 3, 6, 2]\n",
      "[6, 0, 0, 0, 0, 0, 0, 4, 0]      /   [6, 9, 3, 1, 2, 7, 8, 4, 5]\n",
      "[0, 5, 2, 0, 8, 6, 0, 0, 0]          [4, 5, 2, 3, 8, 6, 1, 9, 7]\n",
      "Elapsed time: 0.15299272537231445\n"
     ]
    }
   ],
   "source": [
    "solve_dfs(board)"
   ]
  },
  {
   "cell_type": "code",
   "execution_count": 33,
   "metadata": {},
   "outputs": [
    {
     "name": "stdout",
     "output_type": "stream",
     "text": [
      "Problem:\n",
      "[9, 7, 4, 2, 3, 6, 1, 5, 8]\n",
      "[6, 3, 8, 5, 9, 1, 7, 4, 2]\n",
      "[1, 2, 5, 4, 8, 7, 9, 3, 6]\n",
      "[3, 1, 6, 7, 5, 4, 2, 8, 9]\n",
      "[7, 4, 2, 9, 1, 8, 5, 6, 3]\n",
      "[5, 8, 9, 3, 6, 2, 4, 1, 7]\n",
      "[8, 6, 7, 1, 2, 5, 3, 9, 4]\n",
      "[2, 5, 3, 6, 4, 9, 8, 7, 1]\n",
      "[4, 9, 1, 8, 7, 3, 6, 2, 5]\n"
     ]
    }
   ],
   "source": [
    "#Testing on filled valid 9x9 board...\n",
    "board = [[9,7,4,2,3,6,1,5,8],\n",
    "      [6,3,8,5,9,1,7,4,2],\n",
    "      [1,2,5,4,8,7,9,3,6],\n",
    "      [3,1,6,7,5,4,2,8,9],\n",
    "      [7,4,2,9,1,8,5,6,3],\n",
    "      [5,8,9,3,6,2,4,1,7],\n",
    "      [8,6,7,1,2,5,3,9,4],\n",
    "      [2,5,3,6,4,9,8,7,1],\n",
    "      [4,9,1,8,7,3,6,2,5]]\n",
    "print (\"Problem:\")\n",
    "for row in board:\n",
    "      print (row)"
   ]
  },
  {
   "cell_type": "code",
   "execution_count": 34,
   "metadata": {},
   "outputs": [
    {
     "name": "stdout",
     "output_type": "stream",
     "text": [
      "\n",
      "Solving with DFS...\n",
      "Found solution\n",
      "[9, 7, 4, 2, 3, 6, 1, 5, 8]          [9, 7, 4, 2, 3, 6, 1, 5, 8]\n",
      "[6, 3, 8, 5, 9, 1, 7, 4, 2]      \\   [6, 3, 8, 5, 9, 1, 7, 4, 2]\n",
      "[1, 2, 5, 4, 8, 7, 9, 3, 6]       \\  [1, 2, 5, 4, 8, 7, 9, 3, 6]\n",
      "[3, 1, 6, 7, 5, 4, 2, 8, 9]--------\\ [3, 1, 6, 7, 5, 4, 2, 8, 9]\n",
      "[7, 4, 2, 9, 1, 8, 5, 6, 3]         >[7, 4, 2, 9, 1, 8, 5, 6, 3]\n",
      "[5, 8, 9, 3, 6, 2, 4, 1, 7]--------/ [5, 8, 9, 3, 6, 2, 4, 1, 7]\n",
      "[8, 6, 7, 1, 2, 5, 3, 9, 4]       /  [8, 6, 7, 1, 2, 5, 3, 9, 4]\n",
      "[2, 5, 3, 6, 4, 9, 8, 7, 1]      /   [2, 5, 3, 6, 4, 9, 8, 7, 1]\n",
      "[4, 9, 1, 8, 7, 3, 6, 2, 5]          [4, 9, 1, 8, 7, 3, 6, 2, 5]\n",
      "Elapsed time: 0.0\n"
     ]
    }
   ],
   "source": [
    "solve_dfs(board)"
   ]
  },
  {
   "cell_type": "code",
   "execution_count": 35,
   "metadata": {},
   "outputs": [
    {
     "name": "stdout",
     "output_type": "stream",
     "text": [
      "Problem:\n",
      "[3, 0, 5, 4, 2, 0, 8, 1, 0]\n",
      "[4, 8, 7, 9, 0, 1, 5, 0, 6]\n",
      "[0, 2, 9, 0, 5, 6, 3, 7, 4]\n",
      "[8, 5, 0, 7, 9, 3, 0, 4, 1]\n",
      "[6, 1, 3, 2, 0, 8, 9, 5, 7]\n",
      "[0, 7, 4, 0, 6, 5, 2, 8, 0]\n",
      "[2, 4, 1, 3, 0, 9, 0, 6, 5]\n",
      "[5, 0, 8, 6, 7, 0, 1, 9, 2]\n",
      "[0, 9, 6, 5, 1, 2, 4, 0, 8]\n"
     ]
    }
   ],
   "source": [
    "# Testing on valid 9x9 board...\n",
    "board = [[3,0,5,4,2,0,8,1,0],\n",
    "      [4,8,7,9,0,1,5,0,6],\n",
    "      [0,2,9,0,5,6,3,7,4],\n",
    "      [8,5,0,7,9,3,0,4,1],\n",
    "      [6,1,3,2,0,8,9,5,7],\n",
    "      [0,7,4,0,6,5,2,8,0],\n",
    "      [2,4,1,3,0,9,0,6,5],\n",
    "      [5,0,8,6,7,0,1,9,2],\n",
    "      [0,9,6,5,1,2,4,0,8]]\n",
    "print (\"Problem:\")\n",
    "for row in board:\n",
    "      print (row)"
   ]
  },
  {
   "cell_type": "code",
   "execution_count": 36,
   "metadata": {},
   "outputs": [
    {
     "name": "stdout",
     "output_type": "stream",
     "text": [
      "\n",
      "Solving with DFS...\n",
      "Found solution\n",
      "[3, 0, 5, 4, 2, 0, 8, 1, 0]          [3, 6, 5, 4, 2, 7, 8, 1, 9]\n",
      "[4, 8, 7, 9, 0, 1, 5, 0, 6]      \\   [4, 8, 7, 9, 3, 1, 5, 2, 6]\n",
      "[0, 2, 9, 0, 5, 6, 3, 7, 4]       \\  [1, 2, 9, 8, 5, 6, 3, 7, 4]\n",
      "[8, 5, 0, 7, 9, 3, 0, 4, 1]--------\\ [8, 5, 2, 7, 9, 3, 6, 4, 1]\n",
      "[6, 1, 3, 2, 0, 8, 9, 5, 7]         >[6, 1, 3, 2, 4, 8, 9, 5, 7]\n",
      "[0, 7, 4, 0, 6, 5, 2, 8, 0]--------/ [9, 7, 4, 1, 6, 5, 2, 8, 3]\n",
      "[2, 4, 1, 3, 0, 9, 0, 6, 5]       /  [2, 4, 1, 3, 8, 9, 7, 6, 5]\n",
      "[5, 0, 8, 6, 7, 0, 1, 9, 2]      /   [5, 3, 8, 6, 7, 4, 1, 9, 2]\n",
      "[0, 9, 6, 5, 1, 2, 4, 0, 8]          [7, 9, 6, 5, 1, 2, 4, 3, 8]\n",
      "Elapsed time: 0.0040166378021240234\n"
     ]
    }
   ],
   "source": [
    "solve_dfs(board)"
   ]
  },
  {
   "cell_type": "code",
   "execution_count": 37,
   "metadata": {},
   "outputs": [
    {
     "name": "stdout",
     "output_type": "stream",
     "text": [
      "Problem:\n",
      "[0, 9, 0, 3, 0, 0, 0, 0, 1]\n",
      "[0, 0, 0, 0, 8, 0, 0, 4, 6]\n",
      "[0, 0, 0, 0, 0, 0, 8, 0, 0]\n",
      "[4, 0, 5, 0, 6, 0, 0, 3, 0]\n",
      "[0, 0, 3, 2, 7, 5, 6, 0, 0]\n",
      "[0, 6, 0, 0, 1, 0, 9, 0, 4]\n",
      "[0, 0, 1, 0, 0, 0, 0, 0, 0]\n",
      "[5, 8, 0, 0, 2, 0, 0, 0, 0]\n",
      "[2, 0, 0, 0, 0, 7, 0, 6, 0]\n"
     ]
    }
   ],
   "source": [
    "# Testing unsolvable quadrant on a 9x9 board...\n",
    "board = [[0,9,0,3,0,0,0,0,1],\n",
    "      [0,0,0,0,8,0,0,4,6],\n",
    "      [0,0,0,0,0,0,8,0,0],\n",
    "      [4,0,5,0,6,0,0,3,0],\n",
    "      [0,0,3,2,7,5,6,0,0],\n",
    "      [0,6,0,0,1,0,9,0,4],\n",
    "      [0,0,1,0,0,0,0,0,0],\n",
    "      [5,8,0,0,2,0,0,0,0],\n",
    "      [2,0,0,0,0,7,0,6,0]]\n",
    "print (\"Problem:\")\n",
    "for row in board:\n",
    "      print (row)"
   ]
  },
  {
   "cell_type": "code",
   "execution_count": 38,
   "metadata": {},
   "outputs": [
    {
     "name": "stdout",
     "output_type": "stream",
     "text": [
      "\n",
      "Solving with DFS...\n",
      "No possible solutions\n",
      "Elapsed time: 0.8980176448822021\n"
     ]
    }
   ],
   "source": [
    "solve_dfs(board)"
   ]
  }
 ],
 "metadata": {
  "kernelspec": {
   "display_name": "Python [conda env:py3]",
   "language": "python",
   "name": "conda-env-py3-py"
  },
  "language_info": {
   "codemirror_mode": {
    "name": "ipython",
    "version": 3
   },
   "file_extension": ".py",
   "mimetype": "text/x-python",
   "name": "python",
   "nbconvert_exporter": "python",
   "pygments_lexer": "ipython3",
   "version": "3.6.2"
  }
 },
 "nbformat": 4,
 "nbformat_minor": 2
}
