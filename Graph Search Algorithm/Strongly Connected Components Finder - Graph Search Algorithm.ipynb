{
 "cells": [
  {
   "cell_type": "markdown",
   "metadata": {},
   "source": [
    "# Strongly Connected Components Finder - Graph Search Algorithm"
   ]
  },
  {
   "cell_type": "markdown",
   "metadata": {},
   "source": [
    "Links about Strongly connected component:\n",
    "\n",
    "https://en.wikipedia.org/wiki/Strongly_connected_component\n",
    "\n",
    "https://www.geeksforgeeks.org/strongly-connected-components/\n",
    "\n",
    "Links about BFS for a Graph:\n",
    "\n",
    "https://en.wikipedia.org/wiki/Breadth-first_search\n",
    "\n",
    "https://www.geeksforgeeks.org/breadth-first-traversal-for-a-graph/\n",
    "\n",
    "Links about DFS for a Graph:\n",
    "\n",
    "https://en.wikipedia.org/wiki/Depth-first_search\n",
    "\n",
    "https://www.geeksforgeeks.org/depth-first-traversal-for-a-graph/"
   ]
  },
  {
   "cell_type": "markdown",
   "metadata": {},
   "source": [
    "The SCC.txt contains the edges of a directed graph. Vertices are labeled as positive integers from 1 to 875714. Every row indicates an edge, the vertex label in first column is the tail and the vertex label in second column is the head (recall the graph is directed, and the edges are directed from the first column vertex to the second column vertex). So for example, the 11th row looks liks : \"2 47646\". This just means that the vertex with label 2 has an outgoing edge to the vertex with label 47646。\n",
    "\n",
    "Our task is to code up the algorithm for computing strongly connected components (SCCs), and to run this algorithm on the given graph."
   ]
  },
  {
   "cell_type": "code",
   "execution_count": 5,
   "metadata": {
    "collapsed": true
   },
   "outputs": [],
   "source": [
    "class SccFinder(object):\n",
    "    def __init__(self, input_file):\n",
    "        self.scc_list = []\n",
    "        with open(input_file) as file:\n",
    "            self.finish_order = []\n",
    "            self._graph = {}\n",
    "            for line in file:\n",
    "                (from_v, to_v) = tuple(number for number in line.split())\n",
    "                self._add_edge_to_graph(int(from_v), int(to_v))\n",
    "\n",
    "    def _add_edge_to_graph(self, from_v, to_v):\n",
    "        if from_v in self._graph:\n",
    "            self._graph[from_v].append(to_v)\n",
    "        else:\n",
    "            self._graph[from_v] = [to_v]\n",
    "        if to_v in self._graph:\n",
    "            self._graph[to_v].append(-from_v)\n",
    "        else:\n",
    "            self._graph[to_v] = [-from_v]\n",
    "\n",
    "    def compute_finish_times(self):\n",
    "        visited_nodes, finished_nodes = set(), set()\n",
    "        for vertex in self._graph.keys():\n",
    "            if vertex in visited_nodes:\n",
    "                continue\n",
    "            nodes_stack = [vertex]\n",
    "            while nodes_stack:\n",
    "                node = nodes_stack.pop()\n",
    "                if node not in visited_nodes:\n",
    "                    visited_nodes.add(node)\n",
    "                    nodes_stack.append(node)\n",
    "                    neighbors = (-edge for edge in self._graph[node] if edge < 0)\n",
    "                    for neighbor in neighbors:\n",
    "                        if neighbor not in visited_nodes:\n",
    "                            nodes_stack.append(neighbor)\n",
    "                else:\n",
    "                    if node not in finished_nodes:\n",
    "                        self.finish_order.append(node)\n",
    "                        finished_nodes.add(node)\n",
    "\n",
    "    def compute_sccs(self):\n",
    "        visited_nodes = set()\n",
    "        assert (len(self.finish_order) == len(self._graph))\n",
    "        for i in reversed(self.finish_order):\n",
    "            if i in visited_nodes:\n",
    "                continue\n",
    "            nodes_stack = [i]\n",
    "            size = 0\n",
    "            while nodes_stack:\n",
    "                node = nodes_stack.pop()\n",
    "                if node not in visited_nodes:\n",
    "                    size += 1\n",
    "                    visited_nodes.add(node)\n",
    "                    nodes_stack.append(node)\n",
    "                    neighbors = (edge for edge in self._graph[node] if edge > 0)\n",
    "                    for neighbor in neighbors:\n",
    "                        if neighbor not in visited_nodes:\n",
    "                            nodes_stack.append(neighbor)\n",
    "            self.scc_list.append(size)\n",
    "        self.scc_list.sort(reverse=True)"
   ]
  },
  {
   "cell_type": "code",
   "execution_count": 6,
   "metadata": {},
   "outputs": [
    {
     "name": "stdout",
     "output_type": "stream",
     "text": [
      "[434821, 968, 459, 313, 211]\n"
     ]
    }
   ],
   "source": [
    "if __name__ == \"__main__\":\n",
    "    scc_finder = SccFinder(\"SCC.txt\")\n",
    "    scc_finder.compute_finish_times()\n",
    "    scc_finder.compute_sccs()\n",
    "    # expected_sccs = [434821, 968, 459, 313, 211]\n",
    "    print(scc_finder.scc_list[:5])"
   ]
  }
 ],
 "metadata": {
  "kernelspec": {
   "display_name": "Python [conda env:py3]",
   "language": "python",
   "name": "conda-env-py3-py"
  },
  "language_info": {
   "codemirror_mode": {
    "name": "ipython",
    "version": 3
   },
   "file_extension": ".py",
   "mimetype": "text/x-python",
   "name": "python",
   "nbconvert_exporter": "python",
   "pygments_lexer": "ipython3",
   "version": "3.6.2"
  }
 },
 "nbformat": 4,
 "nbformat_minor": 2
}
