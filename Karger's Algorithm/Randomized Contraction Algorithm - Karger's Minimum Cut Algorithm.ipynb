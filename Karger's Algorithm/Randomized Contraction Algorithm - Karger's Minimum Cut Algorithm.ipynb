{
 "cells": [
  {
   "cell_type": "markdown",
   "metadata": {},
   "source": [
    "#  Randomized Contraction Algorithm - Karger's Minimum Cut Algorithm"
   ]
  },
  {
   "cell_type": "markdown",
   "metadata": {},
   "source": [
    "Links about Karger's algorithm:\n",
    "\n",
    "https://en.wikipedia.org/wiki/Karger%27s_algorithm\n",
    "\n",
    "https://www.geeksforgeeks.org/kargers-algorithm-for-minimum-cut-set-1-introduction-and-implementation/\n",
    "\n",
    "https://www.geeksforgeeks.org/kargers-algorithm-for-minimum-cut-set-2-analysis-and-applications/"
   ]
  },
  {
   "cell_type": "markdown",
   "metadata": {},
   "source": [
    "The kargerMinCut.txt contains the adjacency list representation of a simple undirected graph. There are 200 vertices labeled 1 to 200. The first column in the file represents the vertex label, and the particular row (other entries except the first column) tells all the vertices that the vertex is adjacent to. So for example, the 6th row looks like : \"6\t155\t56\t52\t120\t......\". This just means that the vertex with label 6 is adjacent to (i.e., shares an edge with) the vertices with labels 155,56,52,120,......,etc\n",
    "\n",
    "Our task is to code up and run the randomized contraction algorithm for the min cut problem and use it on the above graph to compute the min cut."
   ]
  },
  {
   "cell_type": "code",
   "execution_count": 21,
   "metadata": {
    "collapsed": true
   },
   "outputs": [],
   "source": [
    "from random import randint\n",
    "\n",
    "class KargerMinCutter:\n",
    "    def __init__(self, graph_file):\n",
    "        self._graph = {}\n",
    "        self._total_edges = 0\n",
    "        with open(graph_file) as file:\n",
    "            for index, line in enumerate(file):\n",
    "                numbers = [int(number) for number in line.split()]\n",
    "                self._graph[numbers[0]] = numbers[1:]\n",
    "                self._total_edges += len(numbers[1:])\n",
    "\n",
    "    def find_min_cut(self):\n",
    "        min_cut = 0\n",
    "        while len(self._graph) > 2:\n",
    "            v1, v2 = self._pick_random_edge()\n",
    "            self._total_edges -= len(self._graph[v1])\n",
    "            self._total_edges -= len(self._graph[v2])\n",
    "            self._graph[v1].extend(self._graph[v2])\n",
    "            for vertex in self._graph[v2]:\n",
    "                self._graph[vertex].remove(v2)\n",
    "                self._graph[vertex].append(v1)\n",
    "            self._graph[v1] = list(filter(lambda v: v != v1, self._graph[v1]))\n",
    "            self._total_edges += len(self._graph[v1])\n",
    "            self._graph.pop(v2)\n",
    "        for edges in self._graph.values():\n",
    "            min_cut = len(edges)\n",
    "        return min_cut\n",
    "\n",
    "    def _pick_random_edge(self):\n",
    "        rand_edge = randint(0, self._total_edges - 1)\n",
    "        for vertex, vertex_edges in self._graph.items():\n",
    "            if len(vertex_edges) <= rand_edge:\n",
    "                rand_edge -= len(vertex_edges)\n",
    "            else:\n",
    "                from_vertex = vertex\n",
    "                to_vertex = vertex_edges[rand_edge]\n",
    "                return from_vertex, to_vertex"
   ]
  },
  {
   "cell_type": "code",
   "execution_count": 23,
   "metadata": {},
   "outputs": [
    {
     "name": "stdout",
     "output_type": "stream",
     "text": [
      "17\n"
     ]
    }
   ],
   "source": [
    "# To compare with the min_cutter, this number need to be greater than all the edges from the txt file\n",
    "min_cut = 99999\n",
    "\n",
    "for i in range(999):\n",
    "    min_cutter = KargerMinCutter('kargerMinCut.txt')\n",
    "    cut = min_cutter.find_min_cut()\n",
    "    if cut < min_cut:\n",
    "        min_cut = cut\n",
    "\n",
    "print(min_cut)"
   ]
  }
 ],
 "metadata": {
  "kernelspec": {
   "display_name": "Python [conda env:py3]",
   "language": "python",
   "name": "conda-env-py3-py"
  },
  "language_info": {
   "codemirror_mode": {
    "name": "ipython",
    "version": 3
   },
   "file_extension": ".py",
   "mimetype": "text/x-python",
   "name": "python",
   "nbconvert_exporter": "python",
   "pygments_lexer": "ipython3",
   "version": "3.6.2"
  }
 },
 "nbformat": 4,
 "nbformat_minor": 2
}
